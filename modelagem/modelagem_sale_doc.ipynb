{
 "cells": [
  {
   "cell_type": "markdown",
   "metadata": {},
   "source": [
    "# <center>**Modelagem Sale Documentação**</center>"
   ]
  },
  {
   "cell_type": "markdown",
   "metadata": {},
   "source": [
    "Este notebook visa elucidar a modelagem adotada para predizer o preço de venda de apartamentos em São Paulo. Serão explorados quatro modelos distintos:\n",
    "\n",
    "- Regressão Linear\n",
    "- Regressão Lasso\n",
    "- Floresta Aleatória\n",
    "- Boosting\n",
    "\n",
    "A fim de comparar o desempenho de cada modelo, empregaremos o Erro Quadrático Médio (EQM) como métrica. O modelo que registrar o menor EQM será selecionado para projetar os preços de novos apartamentos.\n",
    "\n",
    "Ao final deste documento, será definido o modelo que sera utilizado."
   ]
  },
  {
   "cell_type": "markdown",
   "metadata": {},
   "source": [
    "### **Bibliotecas e Configurações Gerais**"
   ]
  },
  {
   "cell_type": "code",
   "execution_count": 1,
   "metadata": {},
   "outputs": [],
   "source": [
    "# Bibliotecas\n",
    "import pandas as pd\n",
    "import numpy as np\n",
    "import ast\n",
    "from sklearn.model_selection import train_test_split\n",
    "from sklearn.linear_model import LinearRegression, Lasso\n",
    "from sklearn.ensemble import RandomForestRegressor\n",
    "from xgboost import XGBRegressor\n",
    "from sklearn.metrics import mean_squared_error\n",
    "from sklearn.model_selection import GridSearchCV"
   ]
  },
  {
   "cell_type": "markdown",
   "metadata": {},
   "source": [
    "### **Importando e Ajustando Dados**"
   ]
  },
  {
   "cell_type": "code",
   "execution_count": 2,
   "metadata": {},
   "outputs": [
    {
     "data": {
      "text/html": [
       "<div>\n",
       "<style scoped>\n",
       "    .dataframe tbody tr th:only-of-type {\n",
       "        vertical-align: middle;\n",
       "    }\n",
       "\n",
       "    .dataframe tbody tr th {\n",
       "        vertical-align: top;\n",
       "    }\n",
       "\n",
       "    .dataframe thead th {\n",
       "        text-align: right;\n",
       "    }\n",
       "</style>\n",
       "<table border=\"1\" class=\"dataframe\">\n",
       "  <thead>\n",
       "    <tr style=\"text-align: right;\">\n",
       "      <th></th>\n",
       "      <th>Price</th>\n",
       "      <th>Condo</th>\n",
       "      <th>Size</th>\n",
       "      <th>Rooms</th>\n",
       "      <th>Toilets</th>\n",
       "      <th>Suites</th>\n",
       "      <th>Parking</th>\n",
       "      <th>Elevator</th>\n",
       "      <th>Furnished</th>\n",
       "      <th>Swimming Pool</th>\n",
       "      <th>district_class</th>\n",
       "    </tr>\n",
       "  </thead>\n",
       "  <tbody>\n",
       "    <tr>\n",
       "      <th>0</th>\n",
       "      <td>732600</td>\n",
       "      <td>1000.000000</td>\n",
       "      <td>74</td>\n",
       "      <td>1</td>\n",
       "      <td>2</td>\n",
       "      <td>1</td>\n",
       "      <td>2</td>\n",
       "      <td>1</td>\n",
       "      <td>0</td>\n",
       "      <td>1</td>\n",
       "      <td>B</td>\n",
       "    </tr>\n",
       "    <tr>\n",
       "      <th>1</th>\n",
       "      <td>1990000</td>\n",
       "      <td>2400.000000</td>\n",
       "      <td>164</td>\n",
       "      <td>4</td>\n",
       "      <td>5</td>\n",
       "      <td>2</td>\n",
       "      <td>3</td>\n",
       "      <td>1</td>\n",
       "      <td>1</td>\n",
       "      <td>1</td>\n",
       "      <td>B</td>\n",
       "    </tr>\n",
       "    <tr>\n",
       "      <th>2</th>\n",
       "      <td>720000</td>\n",
       "      <td>700.000000</td>\n",
       "      <td>70</td>\n",
       "      <td>2</td>\n",
       "      <td>2</td>\n",
       "      <td>1</td>\n",
       "      <td>1</td>\n",
       "      <td>1</td>\n",
       "      <td>0</td>\n",
       "      <td>1</td>\n",
       "      <td>B</td>\n",
       "    </tr>\n",
       "    <tr>\n",
       "      <th>3</th>\n",
       "      <td>1680000</td>\n",
       "      <td>1580.000000</td>\n",
       "      <td>155</td>\n",
       "      <td>3</td>\n",
       "      <td>5</td>\n",
       "      <td>3</td>\n",
       "      <td>2</td>\n",
       "      <td>1</td>\n",
       "      <td>0</td>\n",
       "      <td>1</td>\n",
       "      <td>B</td>\n",
       "    </tr>\n",
       "    <tr>\n",
       "      <th>4</th>\n",
       "      <td>1200000</td>\n",
       "      <td>900.000000</td>\n",
       "      <td>56</td>\n",
       "      <td>2</td>\n",
       "      <td>2</td>\n",
       "      <td>1</td>\n",
       "      <td>2</td>\n",
       "      <td>0</td>\n",
       "      <td>1</td>\n",
       "      <td>1</td>\n",
       "      <td>B</td>\n",
       "    </tr>\n",
       "    <tr>\n",
       "      <th>...</th>\n",
       "      <td>...</td>\n",
       "      <td>...</td>\n",
       "      <td>...</td>\n",
       "      <td>...</td>\n",
       "      <td>...</td>\n",
       "      <td>...</td>\n",
       "      <td>...</td>\n",
       "      <td>...</td>\n",
       "      <td>...</td>\n",
       "      <td>...</td>\n",
       "      <td>...</td>\n",
       "    </tr>\n",
       "    <tr>\n",
       "      <th>6297</th>\n",
       "      <td>265000</td>\n",
       "      <td>420.000000</td>\n",
       "      <td>51</td>\n",
       "      <td>2</td>\n",
       "      <td>1</td>\n",
       "      <td>0</td>\n",
       "      <td>1</td>\n",
       "      <td>0</td>\n",
       "      <td>0</td>\n",
       "      <td>0</td>\n",
       "      <td>C</td>\n",
       "    </tr>\n",
       "    <tr>\n",
       "      <th>6298</th>\n",
       "      <td>545000</td>\n",
       "      <td>630.000000</td>\n",
       "      <td>74</td>\n",
       "      <td>3</td>\n",
       "      <td>2</td>\n",
       "      <td>1</td>\n",
       "      <td>2</td>\n",
       "      <td>0</td>\n",
       "      <td>0</td>\n",
       "      <td>1</td>\n",
       "      <td>C</td>\n",
       "    </tr>\n",
       "    <tr>\n",
       "      <th>6299</th>\n",
       "      <td>515000</td>\n",
       "      <td>1100.000000</td>\n",
       "      <td>114</td>\n",
       "      <td>3</td>\n",
       "      <td>3</td>\n",
       "      <td>1</td>\n",
       "      <td>1</td>\n",
       "      <td>0</td>\n",
       "      <td>0</td>\n",
       "      <td>1</td>\n",
       "      <td>C</td>\n",
       "    </tr>\n",
       "    <tr>\n",
       "      <th>6300</th>\n",
       "      <td>345000</td>\n",
       "      <td>48.000000</td>\n",
       "      <td>39</td>\n",
       "      <td>1</td>\n",
       "      <td>2</td>\n",
       "      <td>1</td>\n",
       "      <td>1</td>\n",
       "      <td>0</td>\n",
       "      <td>1</td>\n",
       "      <td>1</td>\n",
       "      <td>C</td>\n",
       "    </tr>\n",
       "    <tr>\n",
       "      <th>6301</th>\n",
       "      <td>161987</td>\n",
       "      <td>273.726078</td>\n",
       "      <td>44</td>\n",
       "      <td>2</td>\n",
       "      <td>1</td>\n",
       "      <td>0</td>\n",
       "      <td>1</td>\n",
       "      <td>0</td>\n",
       "      <td>0</td>\n",
       "      <td>0</td>\n",
       "      <td>D</td>\n",
       "    </tr>\n",
       "  </tbody>\n",
       "</table>\n",
       "<p>6302 rows × 11 columns</p>\n",
       "</div>"
      ],
      "text/plain": [
       "        Price        Condo  Size  Rooms  Toilets  Suites  Parking  Elevator  \\\n",
       "0      732600  1000.000000    74      1        2       1        2         1   \n",
       "1     1990000  2400.000000   164      4        5       2        3         1   \n",
       "2      720000   700.000000    70      2        2       1        1         1   \n",
       "3     1680000  1580.000000   155      3        5       3        2         1   \n",
       "4     1200000   900.000000    56      2        2       1        2         0   \n",
       "...       ...          ...   ...    ...      ...     ...      ...       ...   \n",
       "6297   265000   420.000000    51      2        1       0        1         0   \n",
       "6298   545000   630.000000    74      3        2       1        2         0   \n",
       "6299   515000  1100.000000   114      3        3       1        1         0   \n",
       "6300   345000    48.000000    39      1        2       1        1         0   \n",
       "6301   161987   273.726078    44      2        1       0        1         0   \n",
       "\n",
       "      Furnished  Swimming Pool district_class  \n",
       "0             0              1              B  \n",
       "1             1              1              B  \n",
       "2             0              1              B  \n",
       "3             0              1              B  \n",
       "4             1              1              B  \n",
       "...         ...            ...            ...  \n",
       "6297          0              0              C  \n",
       "6298          0              1              C  \n",
       "6299          0              1              C  \n",
       "6300          1              1              C  \n",
       "6301          0              0              D  \n",
       "\n",
       "[6302 rows x 11 columns]"
      ]
     },
     "execution_count": 2,
     "metadata": {},
     "output_type": "execute_result"
    }
   ],
   "source": [
    "# Importando dados\n",
    "df_sale = pd.read_csv(\"../data/df_sale_final.csv\", index_col=0)\n",
    "\n",
    "df_sale"
   ]
  },
  {
   "cell_type": "markdown",
   "metadata": {},
   "source": [
    "A variável \"district_class\" é uma variável categórica que precisa ser transformada em um formato numérico para ser utilizada pelos algoritmos de machine learning. Utilizamos a técnica de codificação one-hot (one-hot encoding) para realizar essa transformação. "
   ]
  },
  {
   "cell_type": "code",
   "execution_count": 3,
   "metadata": {},
   "outputs": [],
   "source": [
    "# Codificação One-Hot da variável 'district_class'\n",
    "df_rent = pd.get_dummies(df_sale, columns=['district_class'], drop_first=True)"
   ]
  },
  {
   "cell_type": "markdown",
   "metadata": {},
   "source": [
    "### **Divisão de Teste e Treinamento**"
   ]
  },
  {
   "cell_type": "code",
   "execution_count": 4,
   "metadata": {},
   "outputs": [],
   "source": [
    "# Supondo que a coluna alvo é chamada 'target'\n",
    "X = df_rent.drop('Price', axis=1)\n",
    "y = df_rent['Price']\n",
    "\n",
    "X_train, X_test, y_train, y_test = train_test_split(X, y, test_size=0.2, random_state=42)"
   ]
  },
  {
   "cell_type": "markdown",
   "metadata": {},
   "source": [
    "### **Definição e Treinamento dos Modelos**"
   ]
  },
  {
   "cell_type": "markdown",
   "metadata": {},
   "source": [
    "#### Regressão Linear"
   ]
  },
  {
   "cell_type": "code",
   "execution_count": 5,
   "metadata": {},
   "outputs": [
    {
     "name": "stdout",
     "output_type": "stream",
     "text": [
      "Linear Regression MSE: 91131287038.84323\n"
     ]
    }
   ],
   "source": [
    "# Regressão Linear\n",
    "lr_model = LinearRegression()\n",
    "lr_model.fit(X_train, y_train)\n",
    "y_pred_lr = lr_model.predict(X_test)\n",
    "mse_lr = mean_squared_error(y_test, y_pred_lr)\n",
    "print(f'Linear Regression MSE: {mse_lr}')"
   ]
  },
  {
   "cell_type": "markdown",
   "metadata": {},
   "source": [
    "#### Regressão Lasso"
   ]
  },
  {
   "cell_type": "markdown",
   "metadata": {},
   "source": [
    "A Regressão Lasso é utilizada neste projeto para a seleção de características e regularização, minimizando a complexidade do modelo ao penalizar o coeficiente de termos. O hiperparâmetro principal do Lasso, alpha, controla a força dessa penalização. Para otimizar este hiperparâmetro, empregamos o GridSearchCV, que realiza uma busca exaustiva sobre os valores especificados de alpha (0.01, 0.1, 1, 10, 100), utilizando validação cruzada com 5 folds para avaliar a eficácia de cada configuração baseada no erro quadrático médio negativo. Esse método assegura a escolha do melhor alpha, equilibrando a precisão do modelo e sua capacidade de generalização, conforme demonstrado pelo menor erro quadrático médio obtido nos dados de teste."
   ]
  },
  {
   "cell_type": "code",
   "execution_count": 8,
   "metadata": {},
   "outputs": [
    {
     "name": "stdout",
     "output_type": "stream",
     "text": [
      "Lasso Regression MSE: 91131297335.41063\n",
      "Melhores Hiperparâmetros Lasso: {'alpha': 0.01}\n"
     ]
    }
   ],
   "source": [
    "# Definindo os hiperparâmetros para GridSearchCV\n",
    "lasso_params = {\n",
    "    'alpha': [0.01, 0.1, 1, 10, 100]\n",
    "}\n",
    "\n",
    "lasso_model = Lasso()\n",
    "lasso_grid = GridSearchCV(lasso_model, lasso_params, cv=5, scoring='neg_mean_squared_error')\n",
    "lasso_grid.fit(X_train, y_train)\n",
    "\n",
    "# Melhor modelo e avaliação\n",
    "best_lasso = lasso_grid.best_estimator_\n",
    "y_pred_lasso = best_lasso.predict(X_test)\n",
    "mse_lasso = mean_squared_error(y_test, y_pred_lasso)\n",
    "print(f'Lasso Regression MSE: {mse_lasso}')\n",
    "print(f'Melhores Hiperparâmetros Lasso: {lasso_grid.best_params_}')"
   ]
  },
  {
   "cell_type": "markdown",
   "metadata": {},
   "source": [
    "Durante a modelagem utilizando a regressão Lasso, otimizamos o hiperparâmetro alpha através de validação cruzada, resultando em um valor de 0.01. Observamos que o erro quadrático médio (MSE) obtido com a regressão Lasso foi muito próximo ao da regressão linear multivariada, indicando que a penalização aplicada pelo Lasso foi mínima e não trouxe uma melhoria significativa no ajuste do modelo.\n",
    "\n",
    "Esses resultados sugerem que as variáveis preditoras utilizadas têm uma influência significativa sobre a variável target, pois a regressão linear simples (sem penalização) apresentou desempenho semelhante ao modelo penalizado. A baixa penalização (alpha=0.01) implica que a maioria dos coeficientes das variáveis não foram reduzidos a zero, indicando que todas as variáveis preditoras são importantes para a predição.\n",
    "\n",
    "Dessa forma, concluímos que a regressão linear multivariada já fornece um bom ajuste para os dados, e a adição de penalização via Lasso não se mostrou vantajosa neste contexto específico."
   ]
  },
  {
   "cell_type": "code",
   "execution_count": 9,
   "metadata": {},
   "outputs": [
    {
     "name": "stdout",
     "output_type": "stream",
     "text": [
      "             Feature    Coefficient\n",
      "5            Parking  107479.963493\n",
      "4             Suites  100056.665784\n",
      "8      Swimming Pool   27697.854234\n",
      "1               Size    2564.190395\n",
      "0              Condo     704.542908\n",
      "6           Elevator   -6764.959288\n",
      "7          Furnished  -13717.243517\n",
      "3            Toilets  -35538.887053\n",
      "2              Rooms  -55047.694150\n",
      "9   district_class_B -316254.532486\n",
      "11  district_class_D -418210.771583\n",
      "10  district_class_C -419434.665399\n"
     ]
    }
   ],
   "source": [
    "# Exibir os coeficientes do modelo Lasso treinado\n",
    "coef_df = pd.DataFrame({'Feature': X_train.columns, 'Coefficient': best_lasso.coef_})\n",
    "coef_df = coef_df.sort_values(by='Coefficient', ascending=False)\n",
    "print(coef_df)"
   ]
  },
  {
   "cell_type": "code",
   "execution_count": 10,
   "metadata": {},
   "outputs": [
    {
     "data": {
      "image/png": "[encoded data removed]",
      "text/plain": [
       "<Figure size 1000x600 with 1 Axes>"
      ]
     },
     "metadata": {},
     "output_type": "display_data"
    }
   ],
   "source": [
    "import matplotlib.pyplot as plt\n",
    "\n",
    "# Plotar os coeficientes do modelo Lasso\n",
    "plt.figure(figsize=(10, 6))\n",
    "plt.barh(coef_df['Feature'], coef_df['Coefficient'])\n",
    "plt.xlabel('Coeficiente')\n",
    "plt.ylabel('Variável')\n",
    "plt.title('Coeficientes do Modelo Lasso')\n",
    "plt.show()"
   ]
  },
  {
   "cell_type": "markdown",
   "metadata": {},
   "source": [
    "#### Floresta Aleatória"
   ]
  },
  {
   "cell_type": "markdown",
   "metadata": {},
   "source": [
    "A Floresta Aleatória é um método de aprendizado de máquina baseado em árvores de decisão, que opera pela construção de múltiplas árvores de decisão durante o treinamento e produzindo a média das previsões dessas árvores para obter resultados mais precisos e estáveis. Este modelo é particularmente útil para lidar com problemas de regressão e classificação em grandes conjuntos de dados, pois oferece uma boa performance e é capaz de modelar interações complexas entre as variáveis.\n",
    "\n",
    "No código apresentado, o modelo ``RandomForestRegressor`` é utilizado, adequado para problemas de regressão. Para otimizar o desempenho do modelo, utiliza-se o GridSearchCV, uma técnica que realiza uma busca exaustiva sobre especificados valores de hiperparâmetros. Os hiperparâmetros ajustados incluem:\n",
    "\n",
    "- n_estimators: número de árvores na floresta. Valores testados são 100, 200 e 300.\n",
    "- max_depth: a profundidade máxima das árvores. Testa-se desde árvores com profundidade ilimitada até uma profundidade máxima de 30.\n",
    "- min_samples_split: o número mínimo de amostras necessárias para dividir um nó interno. Os valores testados são 2, 5 e 10.\n",
    "- min_samples_leaf: o número mínimo de amostras requeridas para ser um nó folha. Os valores são 1, 2 e 4."
   ]
  },
  {
   "cell_type": "markdown",
   "metadata": {},
   "source": [
    "A busca pelo melhor hiperparâmetro foi realizada utilizando o código a seguir:\n",
    "\n",
    "****\n",
    "\n",
    "```python\n",
    "# Definindo os hiperparâmetros para GridSearchCV\n",
    "rf_params = {\n",
    "    'n_estimators': [100, 200, 300],\n",
    "    'max_depth': [None, 10, 20, 30],\n",
    "    'min_samples_split': [2, 5, 10],\n",
    "    'min_samples_leaf': [1, 2, 4]\n",
    "}\n",
    "\n",
    "rf_model = RandomForestRegressor(random_state=42)\n",
    "rf_grid = GridSearchCV(rf_model, rf_params, cv=5, scoring='neg_mean_squared_error')\n",
    "rf_grid.fit(X_train, y_train)\n",
    "\n",
    "# Salvando resultados em um arquivo csv\n",
    "pd.DataFrame(rf_grid.cv_results_).to_csv(\"grid_rf_results_sale.csv\")\n",
    "```\n",
    "****\n",
    "Para evitar a necessidade de realizar a busca pelos hiperparâmetros novamente, o que demanda um tempo de processamento considerável, os resultados foram salvos em um arquivo CSV chamado ``grid_rf_results_sale.csv``."
   ]
  },
  {
   "cell_type": "code",
   "execution_count": 12,
   "metadata": {},
   "outputs": [
    {
     "data": {
      "text/plain": [
       "{'max_depth': 10,\n",
       " 'min_samples_leaf': 2,\n",
       " 'min_samples_split': 5,\n",
       " 'n_estimators': 300}"
      ]
     },
     "execution_count": 12,
     "metadata": {},
     "output_type": "execute_result"
    }
   ],
   "source": [
    "# Lendo resultados já calculados do grid\n",
    "rf_grid_results = pd.read_csv(\"grid_rf_results_sale.csv\", index_col=0)\n",
    "\n",
    "best_rf = ast.literal_eval(rf_grid_results.sort_values(\"rank_test_score\")[\"params\"].reset_index(drop=True)[0])\n",
    "\n",
    "best_rf"
   ]
  },
  {
   "cell_type": "code",
   "execution_count": 13,
   "metadata": {},
   "outputs": [
    {
     "name": "stdout",
     "output_type": "stream",
     "text": [
      "Random Forest MSE: 66646510828.02553\n",
      "Melhores Hiperparâmetros Random Forest: {'max_depth': 10, 'min_samples_leaf': 2, 'min_samples_split': 5, 'n_estimators': 300}\n"
     ]
    }
   ],
   "source": [
    "# Treinando modelo com os hiperparametros otimizados\n",
    "rf_final = RandomForestRegressor(random_state=42,\n",
    "                                 max_depth=best_rf[\"max_depth\"],\n",
    "                                  min_samples_leaf=best_rf[\"min_samples_leaf\"], \n",
    "                                  min_samples_split=best_rf[\"min_samples_split\"], \n",
    "                                  n_estimators=best_rf[\"n_estimators\"])\n",
    "\n",
    "rf_final.fit(X_train, y_train)\n",
    "\n",
    "y_pred_rf = rf_final.predict(X_test)\n",
    "mse_rf = mean_squared_error(y_test, y_pred_rf)\n",
    "print(f'Random Forest MSE: {mse_rf}')\n",
    "print(f'Melhores Hiperparâmetros Random Forest: {best_rf}')"
   ]
  },
  {
   "cell_type": "markdown",
   "metadata": {},
   "source": [
    "#### XGBoost"
   ]
  },
  {
   "cell_type": "markdown",
   "metadata": {},
   "source": [
    "O XGBoost (eXtreme Gradient Boosting) é um algoritmo avançado de aprendizado supervisionado que utiliza o método de boosting de gradiente. É conhecido por sua eficiência em velocidade e desempenho, sendo amplamente utilizado em competições de ciência de dados devido à sua habilidade de lidar com grandes conjuntos de dados e sua eficácia em problemas de classificação e regressão.\n",
    "\n",
    "No trecho de código apresentado, o modelo XGBRegressor é configurado com um estado aleatório fixo para garantir a consistência dos resultados. O objetivo é ajustar vários hiperparâmetros usando o GridSearchCV, que executa uma busca exaustiva sobre os hiperparâmetros especificados para encontrar a melhor configuração. Os hiperparâmetros ajustados incluem:\n",
    "\n",
    "\n",
    "- n_estimators: número de árvores construídas pelo modelo, com valores testados de 100, 200 e 300.\n",
    "- learning_rate: taxa de aprendizagem que controla a contribuição de cada árvore no modelo final, testada em 0.01, 0.1 e 0.2.\n",
    "- max_depth: a profundidade máxima de cada árvore, com valores de 3, 5 e 7 testados para evitar sobreajuste.\n",
    "- subsample: a fração de amostras usadas para treinar cada árvore, com valores entre 0.8 e 1.0, que ajuda a controlar o sobreajuste.\n",
    "- colsample_bytree: a fração de colunas (features) usadas para cada árvore, também testada entre 0.8 e 1.0 para regularização."
   ]
  },
  {
   "cell_type": "markdown",
   "metadata": {},
   "source": [
    "Assim como no caso da floresta aleatória, a busca pelos hiperparâmetros foi realizada pelo código abaixo e os resultados foram salvos em um arquivo CSV:\n",
    "\n",
    "```python\n",
    "# Definindo os hiperparâmetros para GridSearchCV\n",
    "xgb_params = {\n",
    "    'n_estimators': [100, 200, 300],\n",
    "    'learning_rate': [0.01, 0.1, 0.2],\n",
    "    'max_depth': [3, 5, 7],\n",
    "    'subsample': [0.8, 0.9, 1.0],\n",
    "    'colsample_bytree': [0.8, 0.9, 1.0]\n",
    "}\n",
    "\n",
    "xgb_model = XGBRegressor(random_state=42)\n",
    "xgb_grid = GridSearchCV(xgb_model, xgb_params, cv=5, scoring='neg_mean_squared_error')\n",
    "xgb_grid.fit(X_train, y_train)\n",
    "\n",
    "# Salvando resultados em um arquivo csv\n",
    "pd.DataFrame(xgb_grid.cv_results_).to_csv(\"grid_boosting_results_sale.csv\")\n",
    "```\n",
    "\n",
    "Em seguida, o arquivo ``grid_boosting_results_sale.csv`` será importado com todos os resultados do grid."
   ]
  },
  {
   "cell_type": "code",
   "execution_count": 15,
   "metadata": {},
   "outputs": [
    {
     "data": {
      "text/plain": [
       "{'colsample_bytree': 1.0,\n",
       " 'learning_rate': 0.2,\n",
       " 'max_depth': 3,\n",
       " 'n_estimators': 100,\n",
       " 'subsample': 1.0}"
      ]
     },
     "execution_count": 15,
     "metadata": {},
     "output_type": "execute_result"
    }
   ],
   "source": [
    "# Lendo resultados já calculados do grid\n",
    "xgb_grid_results = pd.read_csv(\"grid_boosting_results_sale.csv\", index_col=0)\n",
    "\n",
    "best_xgb_result = ast.literal_eval(xgb_grid_results.sort_values(\"rank_test_score\")[\"params\"].reset_index(drop=True)[0])\n",
    "\n",
    "best_xgb_result"
   ]
  },
  {
   "cell_type": "code",
   "execution_count": 16,
   "metadata": {},
   "outputs": [
    {
     "name": "stdout",
     "output_type": "stream",
     "text": [
      "XGBoost MSE: 61603869460.28341\n",
      "Melhores Hiperparâmetros XGBoost: {'colsample_bytree': 1.0, 'learning_rate': 0.2, 'max_depth': 3, 'n_estimators': 100, 'subsample': 1.0}\n"
     ]
    }
   ],
   "source": [
    "# Treinando modelo final com hiperparametros otimizados\n",
    "xgb_final = XGBRegressor(random_state = 42,\n",
    "                         colsample_bytree=best_xgb_result[\"colsample_bytree\"],\n",
    "                         learning_rate=best_xgb_result[\"learning_rate\"],\n",
    "                         max_depth=best_xgb_result[\"max_depth\"],\n",
    "                         n_estimators=best_xgb_result[\"n_estimators\"],\n",
    "                         subsample=best_xgb_result[\"subsample\"])\n",
    "\n",
    "xgb_final.fit(X_train, y_train)\n",
    "\n",
    "\n",
    "y_pred_xgb = xgb_final.predict(X_test)\n",
    "mse_xgb = mean_squared_error(y_test, y_pred_xgb)\n",
    "print(f'XGBoost MSE: {mse_xgb}')\n",
    "print(f'Melhores Hiperparâmetros XGBoost: {best_xgb_result}')"
   ]
  },
  {
   "cell_type": "markdown",
   "metadata": {},
   "source": [
    "### **Comparando Resultados**"
   ]
  },
  {
   "cell_type": "code",
   "execution_count": 17,
   "metadata": {},
   "outputs": [
    {
     "name": "stdout",
     "output_type": "stream",
     "text": [
      "O melhor modelo é XGBoost com um EQM de 61603869460.28341\n"
     ]
    }
   ],
   "source": [
    "# Comparação dos Resultados\n",
    "model_results = {\n",
    "    'Linear Regression': mse_lr,\n",
    "    'Lasso Regression': mse_lasso,\n",
    "    'Random Forest': mse_rf,\n",
    "    'XGBoost': mse_xgb\n",
    "}\n",
    "\n",
    "best_model = min(model_results, key=model_results.get)\n",
    "print(f'O melhor modelo é {best_model} com um EQM de {model_results[best_model]}')"
   ]
  }
 ],
 "metadata": {
  "kernelspec": {
   "display_name": "sifenv",
   "language": "python",
   "name": "python3"
  },
  "language_info": {
   "codemirror_mode": {
    "name": "ipython",
    "version": 3
   },
   "file_extension": ".py",
   "mimetype": "text/x-python",
   "name": "python",
   "nbconvert_exporter": "python",
   "pygments_lexer": "ipython3",
   "version": "3.10.8"
  }
 },
 "nbformat": 4,
 "nbformat_minor": 2
}

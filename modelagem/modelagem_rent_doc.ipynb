{
 "cells": [
  {
   "cell_type": "markdown",
   "metadata": {},
   "source": [
    "# <center>**Modelagem Rent Documentação**</center>"
   ]
  },
  {
   "cell_type": "markdown",
   "metadata": {},
   "source": [
    "Este notebook visa elucidar a modelagem adotada para predizer o preço de aluguel de apartamentos em São Paulo. Serão explorados quatro modelos distintos:\n",
    "\n",
    "- Regressão Linear\n",
    "- Regressão Lasso\n",
    "- Floresta Aleatória\n",
    "- Boosting\n",
    "\n",
    "A fim de comparar o desempenho de cada modelo, empregaremos o Erro Quadrático Médio (EQM) como métrica. O modelo que registrar o menor EQM será selecionado para projetar os preços de novos apartamentos.\n",
    "\n",
    "Ao final deste documento, será definido o modelo que sera utilizado."
   ]
  },
  {
   "cell_type": "markdown",
   "metadata": {},
   "source": [
    "### **Bibliotecas e Configurações Gerais**"
   ]
  },
  {
   "cell_type": "code",
   "execution_count": 1,
   "metadata": {},
   "outputs": [],
   "source": [
    "# Bibliotecas\n",
    "import pandas as pd\n",
    "import numpy as np\n",
    "import ast\n",
    "from sklearn.model_selection import train_test_split\n",
    "from sklearn.linear_model import LinearRegression, Lasso\n",
    "from sklearn.ensemble import RandomForestRegressor\n",
    "from xgboost import XGBRegressor\n",
    "from sklearn.metrics import mean_squared_error\n",
    "from sklearn.model_selection import GridSearchCV\n"
   ]
  },
  {
   "cell_type": "markdown",
   "metadata": {},
   "source": [
    "### **Importando e Ajustando Dados**"
   ]
  },
  {
   "cell_type": "code",
   "execution_count": 2,
   "metadata": {},
   "outputs": [
    {
     "data": {
      "text/html": [
       "<div>\n",
       "<style scoped>\n",
       "    .dataframe tbody tr th:only-of-type {\n",
       "        vertical-align: middle;\n",
       "    }\n",
       "\n",
       "    .dataframe tbody tr th {\n",
       "        vertical-align: top;\n",
       "    }\n",
       "\n",
       "    .dataframe thead th {\n",
       "        text-align: right;\n",
       "    }\n",
       "</style>\n",
       "<table border=\"1\" class=\"dataframe\">\n",
       "  <thead>\n",
       "    <tr style=\"text-align: right;\">\n",
       "      <th></th>\n",
       "      <th>Price</th>\n",
       "      <th>Condo</th>\n",
       "      <th>Size</th>\n",
       "      <th>Rooms</th>\n",
       "      <th>Toilets</th>\n",
       "      <th>Suites</th>\n",
       "      <th>Parking</th>\n",
       "      <th>Elevator</th>\n",
       "      <th>Furnished</th>\n",
       "      <th>Swimming Pool</th>\n",
       "      <th>district_class</th>\n",
       "    </tr>\n",
       "  </thead>\n",
       "  <tbody>\n",
       "    <tr>\n",
       "      <th>0</th>\n",
       "      <td>930</td>\n",
       "      <td>220.0</td>\n",
       "      <td>47</td>\n",
       "      <td>2</td>\n",
       "      <td>2</td>\n",
       "      <td>1</td>\n",
       "      <td>1</td>\n",
       "      <td>0</td>\n",
       "      <td>0</td>\n",
       "      <td>0</td>\n",
       "      <td>D</td>\n",
       "    </tr>\n",
       "    <tr>\n",
       "      <th>1</th>\n",
       "      <td>1000</td>\n",
       "      <td>148.0</td>\n",
       "      <td>45</td>\n",
       "      <td>2</td>\n",
       "      <td>2</td>\n",
       "      <td>1</td>\n",
       "      <td>1</td>\n",
       "      <td>0</td>\n",
       "      <td>0</td>\n",
       "      <td>0</td>\n",
       "      <td>D</td>\n",
       "    </tr>\n",
       "    <tr>\n",
       "      <th>2</th>\n",
       "      <td>1000</td>\n",
       "      <td>100.0</td>\n",
       "      <td>48</td>\n",
       "      <td>2</td>\n",
       "      <td>2</td>\n",
       "      <td>1</td>\n",
       "      <td>1</td>\n",
       "      <td>0</td>\n",
       "      <td>0</td>\n",
       "      <td>0</td>\n",
       "      <td>D</td>\n",
       "    </tr>\n",
       "    <tr>\n",
       "      <th>3</th>\n",
       "      <td>1000</td>\n",
       "      <td>200.0</td>\n",
       "      <td>48</td>\n",
       "      <td>2</td>\n",
       "      <td>2</td>\n",
       "      <td>1</td>\n",
       "      <td>1</td>\n",
       "      <td>0</td>\n",
       "      <td>0</td>\n",
       "      <td>0</td>\n",
       "      <td>D</td>\n",
       "    </tr>\n",
       "    <tr>\n",
       "      <th>4</th>\n",
       "      <td>1300</td>\n",
       "      <td>410.0</td>\n",
       "      <td>55</td>\n",
       "      <td>2</td>\n",
       "      <td>2</td>\n",
       "      <td>1</td>\n",
       "      <td>1</td>\n",
       "      <td>1</td>\n",
       "      <td>0</td>\n",
       "      <td>0</td>\n",
       "      <td>D</td>\n",
       "    </tr>\n",
       "    <tr>\n",
       "      <th>...</th>\n",
       "      <td>...</td>\n",
       "      <td>...</td>\n",
       "      <td>...</td>\n",
       "      <td>...</td>\n",
       "      <td>...</td>\n",
       "      <td>...</td>\n",
       "      <td>...</td>\n",
       "      <td>...</td>\n",
       "      <td>...</td>\n",
       "      <td>...</td>\n",
       "      <td>...</td>\n",
       "    </tr>\n",
       "    <tr>\n",
       "      <th>7014</th>\n",
       "      <td>3700</td>\n",
       "      <td>595.0</td>\n",
       "      <td>73</td>\n",
       "      <td>1</td>\n",
       "      <td>2</td>\n",
       "      <td>1</td>\n",
       "      <td>1</td>\n",
       "      <td>0</td>\n",
       "      <td>0</td>\n",
       "      <td>1</td>\n",
       "      <td>B</td>\n",
       "    </tr>\n",
       "    <tr>\n",
       "      <th>7015</th>\n",
       "      <td>21000</td>\n",
       "      <td>3000.0</td>\n",
       "      <td>208</td>\n",
       "      <td>4</td>\n",
       "      <td>4</td>\n",
       "      <td>3</td>\n",
       "      <td>3</td>\n",
       "      <td>1</td>\n",
       "      <td>1</td>\n",
       "      <td>1</td>\n",
       "      <td>B</td>\n",
       "    </tr>\n",
       "    <tr>\n",
       "      <th>7016</th>\n",
       "      <td>3800</td>\n",
       "      <td>710.0</td>\n",
       "      <td>55</td>\n",
       "      <td>1</td>\n",
       "      <td>1</td>\n",
       "      <td>0</td>\n",
       "      <td>1</td>\n",
       "      <td>0</td>\n",
       "      <td>1</td>\n",
       "      <td>1</td>\n",
       "      <td>B</td>\n",
       "    </tr>\n",
       "    <tr>\n",
       "      <th>7017</th>\n",
       "      <td>5000</td>\n",
       "      <td>2354.0</td>\n",
       "      <td>205</td>\n",
       "      <td>3</td>\n",
       "      <td>2</td>\n",
       "      <td>1</td>\n",
       "      <td>2</td>\n",
       "      <td>1</td>\n",
       "      <td>0</td>\n",
       "      <td>0</td>\n",
       "      <td>B</td>\n",
       "    </tr>\n",
       "    <tr>\n",
       "      <th>7018</th>\n",
       "      <td>15600</td>\n",
       "      <td>2300.0</td>\n",
       "      <td>162</td>\n",
       "      <td>3</td>\n",
       "      <td>4</td>\n",
       "      <td>3</td>\n",
       "      <td>3</td>\n",
       "      <td>0</td>\n",
       "      <td>0</td>\n",
       "      <td>1</td>\n",
       "      <td>B</td>\n",
       "    </tr>\n",
       "  </tbody>\n",
       "</table>\n",
       "<p>7019 rows × 11 columns</p>\n",
       "</div>"
      ],
      "text/plain": [
       "      Price   Condo  Size  Rooms  Toilets  Suites  Parking  Elevator  \\\n",
       "0       930   220.0    47      2        2       1        1         0   \n",
       "1      1000   148.0    45      2        2       1        1         0   \n",
       "2      1000   100.0    48      2        2       1        1         0   \n",
       "3      1000   200.0    48      2        2       1        1         0   \n",
       "4      1300   410.0    55      2        2       1        1         1   \n",
       "...     ...     ...   ...    ...      ...     ...      ...       ...   \n",
       "7014   3700   595.0    73      1        2       1        1         0   \n",
       "7015  21000  3000.0   208      4        4       3        3         1   \n",
       "7016   3800   710.0    55      1        1       0        1         0   \n",
       "7017   5000  2354.0   205      3        2       1        2         1   \n",
       "7018  15600  2300.0   162      3        4       3        3         0   \n",
       "\n",
       "      Furnished  Swimming Pool district_class  \n",
       "0             0              0              D  \n",
       "1             0              0              D  \n",
       "2             0              0              D  \n",
       "3             0              0              D  \n",
       "4             0              0              D  \n",
       "...         ...            ...            ...  \n",
       "7014          0              1              B  \n",
       "7015          1              1              B  \n",
       "7016          1              1              B  \n",
       "7017          0              0              B  \n",
       "7018          0              1              B  \n",
       "\n",
       "[7019 rows x 11 columns]"
      ]
     },
     "execution_count": 2,
     "metadata": {},
     "output_type": "execute_result"
    }
   ],
   "source": [
    "# Importando dados\n",
    "df_rent = pd.read_csv(\"../data/df_rent_final.csv\", index_col=0)\n",
    "\n",
    "df_rent"
   ]
  },
  {
   "cell_type": "markdown",
   "metadata": {},
   "source": [
    "A variável \"district_class\" é uma variável categórica que precisa ser transformada em um formato numérico para ser utilizada pelos algoritmos de machine learning. Utilizamos a técnica de codificação one-hot (one-hot encoding) para realizar essa transformação. "
   ]
  },
  {
   "cell_type": "code",
   "execution_count": 3,
   "metadata": {},
   "outputs": [],
   "source": [
    "# Codificação One-Hot da variável 'district_class'\n",
    "df_rent = pd.get_dummies(df_rent, columns=['district_class'], drop_first=True)"
   ]
  },
  {
   "cell_type": "markdown",
   "metadata": {},
   "source": [
    "### **Divisão de Teste e Treinamento**"
   ]
  },
  {
   "cell_type": "code",
   "execution_count": 4,
   "metadata": {},
   "outputs": [],
   "source": [
    "# Supondo que a coluna alvo é chamada 'target'\n",
    "X = df_rent.drop('Price', axis=1)\n",
    "y = df_rent['Price']\n",
    "\n",
    "X_train, X_test, y_train, y_test = train_test_split(X, y, test_size=0.2, random_state=42)\n"
   ]
  },
  {
   "cell_type": "markdown",
   "metadata": {},
   "source": [
    "### **Definição e Treinamento dos Modelos**"
   ]
  },
  {
   "cell_type": "markdown",
   "metadata": {},
   "source": [
    "#### Regressão Linear"
   ]
  },
  {
   "cell_type": "code",
   "execution_count": 5,
   "metadata": {},
   "outputs": [
    {
     "name": "stdout",
     "output_type": "stream",
     "text": [
      "Linear Regression MSE: 4319407.119298333\n"
     ]
    }
   ],
   "source": [
    "# Regressão Linear\n",
    "lr_model = LinearRegression()\n",
    "lr_model.fit(X_train, y_train)\n",
    "y_pred_lr = lr_model.predict(X_test)\n",
    "mse_lr = mean_squared_error(y_test, y_pred_lr)\n",
    "print(f'Linear Regression MSE: {mse_lr}')"
   ]
  },
  {
   "cell_type": "markdown",
   "metadata": {},
   "source": [
    "#### Regressão Lasso"
   ]
  },
  {
   "cell_type": "markdown",
   "metadata": {},
   "source": [
    "A Regressão Lasso é utilizada neste projeto para a seleção de características e regularização, minimizando a complexidade do modelo ao penalizar o coeficiente de termos. O hiperparâmetro principal do Lasso, alpha, controla a força dessa penalização. Para otimizar este hiperparâmetro, empregamos o GridSearchCV, que realiza uma busca exaustiva sobre os valores especificados de alpha (0.01, 0.1, 1, 10, 100), utilizando validação cruzada com 5 folds para avaliar a eficácia de cada configuração baseada no erro quadrático médio negativo. Esse método assegura a escolha do melhor alpha, equilibrando a precisão do modelo e sua capacidade de generalização, conforme demonstrado pelo menor erro quadrático médio obtido nos dados de teste."
   ]
  },
  {
   "cell_type": "code",
   "execution_count": 6,
   "metadata": {},
   "outputs": [
    {
     "name": "stdout",
     "output_type": "stream",
     "text": [
      "Lasso Regression MSE: 4309651.587967905\n",
      "Melhores Hiperparâmetros Lasso: {'alpha': 1}\n"
     ]
    }
   ],
   "source": [
    "# Definindo os hiperparâmetros para GridSearchCV\n",
    "lasso_params = {\n",
    "    'alpha': [0.01, 0.1, 1, 10, 100]\n",
    "}\n",
    "\n",
    "lasso_model = Lasso()\n",
    "lasso_grid = GridSearchCV(lasso_model, lasso_params, cv=5, scoring='neg_mean_squared_error')\n",
    "lasso_grid.fit(X_train, y_train)\n",
    "\n",
    "# Melhor modelo e avaliação\n",
    "best_lasso = lasso_grid.best_estimator_\n",
    "y_pred_lasso = best_lasso.predict(X_test)\n",
    "mse_lasso = mean_squared_error(y_test, y_pred_lasso)\n",
    "print(f'Lasso Regression MSE: {mse_lasso}')\n",
    "print(f'Melhores Hiperparâmetros Lasso: {lasso_grid.best_params_}')"
   ]
  },
  {
   "cell_type": "markdown",
   "metadata": {},
   "source": [
    "Como o modelo otimizado treinado, podemos avaliar o impacto de cada variavél no preço do imóvel:"
   ]
  },
  {
   "cell_type": "code",
   "execution_count": 7,
   "metadata": {},
   "outputs": [
    {
     "name": "stdout",
     "output_type": "stream",
     "text": [
      "             Feature  Coefficient\n",
      "7          Furnished   760.900933\n",
      "4             Suites   477.670594\n",
      "5            Parking   284.100569\n",
      "8      Swimming Pool   243.382637\n",
      "1               Size    23.919842\n",
      "0              Condo     1.045807\n",
      "3            Toilets   -35.322747\n",
      "6           Elevator   -37.373509\n",
      "2              Rooms  -469.412927\n",
      "9   district_class_B -2918.896658\n",
      "10  district_class_C -3610.174653\n",
      "11  district_class_D -3796.426909\n"
     ]
    }
   ],
   "source": [
    "# Exibir os coeficientes do modelo Lasso treinado\n",
    "coef_df = pd.DataFrame({'Feature': X_train.columns, 'Coefficient': best_lasso.coef_})\n",
    "coef_df = coef_df.sort_values(by='Coefficient', ascending=False)\n",
    "print(coef_df)"
   ]
  },
  {
   "cell_type": "code",
   "execution_count": 8,
   "metadata": {},
   "outputs": [
    {
     "data": {
      "image/png": "[encoded data removed]",
      "text/plain": [
       "<Figure size 1000x600 with 1 Axes>"
      ]
     },
     "metadata": {},
     "output_type": "display_data"
    }
   ],
   "source": [
    "import matplotlib.pyplot as plt\n",
    "\n",
    "# Plotar os coeficientes do modelo Lasso\n",
    "plt.figure(figsize=(10, 6))\n",
    "plt.barh(coef_df['Feature'], coef_df['Coefficient'])\n",
    "plt.xlabel('Coeficiente')\n",
    "plt.ylabel('Variável')\n",
    "plt.title('Coeficientes do Modelo Lasso')\n",
    "plt.show()\n"
   ]
  },
  {
   "cell_type": "markdown",
   "metadata": {},
   "source": [
    "A análise dos coeficientes obtidos pelo modelo de Regressão Lasso após a otimização do hiperparâmetro alpha nos fornece insights valiosos sobre a relevância das variáveis na predição do alvo. Abaixo estão os principais pontos observados a partir do gráfico de coeficientes:\n",
    "\n",
    "1. **Variáveis Mais Relevantes:**\n",
    "\n",
    "- As variáveis categóricas codificadas, especificamente district_class_D, district_class_C, e district_class_B, apresentam coeficientes negativos de magnitude significativa. Isso indica que esses distritos têm uma influência negativa considerável na variável alvo quando comparados com a classe de referência A.\n",
    "- A variável Furnished também mostra um coeficiente positivo, sugerindo que propriedades mobiliadas têm um impacto positivo na variável alvo.\n",
    "\n",
    "\n",
    "2. **Coeficientes Zerados ou Próximos de Zero:**\n",
    "\n",
    "- Variáveis como Rooms, Elevator, Toilets, e Condo apresentam coeficientes muito próximos de zero, indicando que essas características foram penalizadas pelo modelo Lasso e são consideradas menos relevantes para a predição. Isso pode ocorrer devido à multicolinearidade ou à falta de correlação significativa com a variável alvo.\n",
    "\n",
    "3. **Impacto da Penalização:**\n",
    "\n",
    "- A penalização do Lasso é evidente pela redução dos coeficientes de algumas variáveis a zero, simplificando o modelo e mantendo apenas as características mais relevantes. Isso ajuda a evitar overfitting, melhorando a generalização do modelo para novos dados.\n",
    "\n",
    "\n",
    "4. **Magnitude e Direção dos Coeficientes:**\n",
    "\n",
    "- A magnitude dos coeficientes indica a força da relação entre cada variável e a variável alvo. Coeficientes negativos de grande magnitude, como os observados em district_class_D, district_class_C, e district_class_B, sugerem uma forte associação negativa, enquanto coeficientes positivos, como em Furnished, indicam uma relação positiva."
   ]
  },
  {
   "cell_type": "markdown",
   "metadata": {},
   "source": [
    "#### Floresta Aleatória"
   ]
  },
  {
   "cell_type": "markdown",
   "metadata": {},
   "source": [
    "A Floresta Aleatória é um método de aprendizado de máquina baseado em árvores de decisão, que opera pela construção de múltiplas árvores de decisão durante o treinamento e produzindo a média das previsões dessas árvores para obter resultados mais precisos e estáveis. Este modelo é particularmente útil para lidar com problemas de regressão e classificação em grandes conjuntos de dados, pois oferece uma boa performance e é capaz de modelar interações complexas entre as variáveis.\n",
    "\n",
    "No código apresentado, o modelo ``RandomForestRegressor`` é utilizado, adequado para problemas de regressão. Para otimizar o desempenho do modelo, utiliza-se o GridSearchCV, uma técnica que realiza uma busca exaustiva sobre especificados valores de hiperparâmetros. Os hiperparâmetros ajustados incluem:\n",
    "\n",
    "- n_estimators: número de árvores na floresta. Valores testados são 100, 200 e 300.\n",
    "- max_depth: a profundidade máxima das árvores. Testa-se desde árvores com profundidade ilimitada até uma profundidade máxima de 30.\n",
    "- min_samples_split: o número mínimo de amostras necessárias para dividir um nó interno. Os valores testados são 2, 5 e 10.\n",
    "- min_samples_leaf: o número mínimo de amostras requeridas para ser um nó folha. Os valores são 1, 2 e 4."
   ]
  },
  {
   "cell_type": "markdown",
   "metadata": {},
   "source": [
    "A busca pelo melhor hiperparâmetro foi realizada utilizando o código a seguir:\n",
    "\n",
    "****\n",
    "\n",
    "```python\n",
    "# Definindo os hiperparâmetros para GridSearchCV\n",
    "rf_params = {\n",
    "    'n_estimators': [100, 200, 300],\n",
    "    'max_depth': [None, 10, 20, 30],\n",
    "    'min_samples_split': [2, 5, 10],\n",
    "    'min_samples_leaf': [1, 2, 4]\n",
    "}\n",
    "\n",
    "rf_model = RandomForestRegressor(random_state=42)\n",
    "rf_grid = GridSearchCV(rf_model, rf_params, cv=5, scoring='neg_mean_squared_error')\n",
    "rf_grid.fit(X_train, y_train)\n",
    "\n",
    "# Salvando resultados em um arquivo csv\n",
    "pd.DataFrame(rf_grid.cv_results_).to_csv(\"grid_rf_results_rent.csv\")\n",
    "```\n",
    "****\n",
    "Para evitar a necessidade de realizar a busca pelos hiperparâmetros novamente, o que demanda um tempo de processamento considerável, os resultados foram salvos em um arquivo CSV chamado ``grid_rf_results_rent.csv``."
   ]
  },
  {
   "cell_type": "code",
   "execution_count": 9,
   "metadata": {},
   "outputs": [
    {
     "data": {
      "text/plain": [
       "{'max_depth': 30,\n",
       " 'min_samples_leaf': 1,\n",
       " 'min_samples_split': 5,\n",
       " 'n_estimators': 300}"
      ]
     },
     "execution_count": 9,
     "metadata": {},
     "output_type": "execute_result"
    }
   ],
   "source": [
    "# Lendo resultados já calculados do grid\n",
    "rf_grid_results = pd.read_csv(\"grid_rf_results_rent.csv\", index_col=0)\n",
    "\n",
    "best_rf = ast.literal_eval(rf_grid_results.sort_values(\"rank_test_score\")[\"params\"].reset_index(drop=True)[0])\n",
    "\n",
    "best_rf"
   ]
  },
  {
   "cell_type": "code",
   "execution_count": 10,
   "metadata": {},
   "outputs": [
    {
     "name": "stdout",
     "output_type": "stream",
     "text": [
      "Random Forest MSE: 3416650.152365027\n",
      "Melhores Hiperparâmetros Random Forest: {'max_depth': 30, 'min_samples_leaf': 1, 'min_samples_split': 5, 'n_estimators': 300}\n"
     ]
    }
   ],
   "source": [
    "# Treinando modelo com os hiperparametros otimizados\n",
    "rf_final = RandomForestRegressor(random_state=42,\n",
    "                                 max_depth=best_rf[\"max_depth\"],\n",
    "                                  min_samples_leaf=best_rf[\"min_samples_leaf\"], \n",
    "                                  min_samples_split=best_rf[\"min_samples_split\"], \n",
    "                                  n_estimators=best_rf[\"n_estimators\"])\n",
    "\n",
    "rf_final.fit(X_train, y_train)\n",
    "\n",
    "y_pred_rf = rf_final.predict(X_test)\n",
    "mse_rf = mean_squared_error(y_test, y_pred_rf)\n",
    "print(f'Random Forest MSE: {mse_rf}')\n",
    "print(f'Melhores Hiperparâmetros Random Forest: {best_rf}')"
   ]
  },
  {
   "cell_type": "markdown",
   "metadata": {},
   "source": [
    "#### XGBoost"
   ]
  },
  {
   "cell_type": "markdown",
   "metadata": {},
   "source": [
    "O XGBoost (eXtreme Gradient Boosting) é um algoritmo avançado de aprendizado supervisionado que utiliza o método de boosting de gradiente. É conhecido por sua eficiência em velocidade e desempenho, sendo amplamente utilizado em competições de ciência de dados devido à sua habilidade de lidar com grandes conjuntos de dados e sua eficácia em problemas de classificação e regressão.\n",
    "\n",
    "No trecho de código apresentado, o modelo XGBRegressor é configurado com um estado aleatório fixo para garantir a consistência dos resultados. O objetivo é ajustar vários hiperparâmetros usando o GridSearchCV, que executa uma busca exaustiva sobre os hiperparâmetros especificados para encontrar a melhor configuração. Os hiperparâmetros ajustados incluem:\n",
    "\n",
    "\n",
    "- n_estimators: número de árvores construídas pelo modelo, com valores testados de 100, 200 e 300.\n",
    "- learning_rate: taxa de aprendizagem que controla a contribuição de cada árvore no modelo final, testada em 0.01, 0.1 e 0.2.\n",
    "- max_depth: a profundidade máxima de cada árvore, com valores de 3, 5 e 7 testados para evitar sobreajuste.\n",
    "- subsample: a fração de amostras usadas para treinar cada árvore, com valores entre 0.8 e 1.0, que ajuda a controlar o sobreajuste.\n",
    "- colsample_bytree: a fração de colunas (features) usadas para cada árvore, também testada entre 0.8 e 1.0 para regularização."
   ]
  },
  {
   "cell_type": "code",
   "execution_count": 11,
   "metadata": {},
   "outputs": [],
   "source": [
    "# Definindo os hiperparâmetros para GridSearchCV\n",
    "xgb_params = {\n",
    "    'n_estimators': [100, 200, 300],\n",
    "    'learning_rate': [0.01, 0.1, 0.2],\n",
    "    'max_depth': [3, 5, 7],\n",
    "    'subsample': [0.8, 0.9, 1.0],\n",
    "    'colsample_bytree': [0.8, 0.9, 1.0]\n",
    "}\n",
    "\n",
    "xgb_model = XGBRegressor(random_state=42)\n",
    "xgb_grid = GridSearchCV(xgb_model, xgb_params, cv=5, scoring='neg_mean_squared_error')\n",
    "xgb_grid.fit(X_train, y_train)\n",
    "\n",
    "# Salvando resultados em um arquivo csv\n",
    "pd.DataFrame(xgb_grid.cv_results_).to_csv(\"grid_boosting_results_rent.csv\")\n",
    "\n"
   ]
  },
  {
   "cell_type": "code",
   "execution_count": 15,
   "metadata": {},
   "outputs": [
    {
     "data": {
      "text/plain": [
       "{'colsample_bytree': 0.8,\n",
       " 'learning_rate': 0.1,\n",
       " 'max_depth': 3,\n",
       " 'n_estimators': 100,\n",
       " 'subsample': 1.0}"
      ]
     },
     "execution_count": 15,
     "metadata": {},
     "output_type": "execute_result"
    }
   ],
   "source": [
    "# Lendo resultados já calculados do grid\n",
    "xgb_grid_results = pd.read_csv(\"grid_boosting_results_rent.csv\", index_col=0)\n",
    "\n",
    "best_xgb_result = ast.literal_eval(xgb_grid_results.sort_values(\"rank_test_score\")[\"params\"].reset_index(drop=True)[0])\n",
    "\n",
    "best_xgb_result"
   ]
  },
  {
   "cell_type": "code",
   "execution_count": 16,
   "metadata": {},
   "outputs": [
    {
     "name": "stdout",
     "output_type": "stream",
     "text": [
      "XGBoost MSE: 3441101.5209178315\n",
      "Melhores Hiperparâmetros XGBoost: {'colsample_bytree': 0.8, 'learning_rate': 0.1, 'max_depth': 3, 'n_estimators': 100, 'subsample': 1.0}\n"
     ]
    }
   ],
   "source": [
    "# Treinando modelo final com hiperparametros otimizados\n",
    "xgb_final = XGBRegressor(random_state = 42,\n",
    "                         colsample_bytree=best_xgb_result[\"colsample_bytree\"],\n",
    "                         learning_rate=best_xgb_result[\"learning_rate\"],\n",
    "                         max_depth=best_xgb_result[\"max_depth\"],\n",
    "                         n_estimators=best_xgb_result[\"n_estimators\"],\n",
    "                         subsample=best_xgb_result[\"subsample\"])\n",
    "\n",
    "xgb_final.fit(X_train, y_train)\n",
    "\n",
    "\n",
    "y_pred_xgb = xgb_final.predict(X_test)\n",
    "mse_xgb = mean_squared_error(y_test, y_pred_xgb)\n",
    "print(f'XGBoost MSE: {mse_xgb}')\n",
    "print(f'Melhores Hiperparâmetros XGBoost: {xgb_grid.best_params_}')\n"
   ]
  },
  {
   "cell_type": "markdown",
   "metadata": {},
   "source": [
    "### **Comparando Resultados**"
   ]
  },
  {
   "cell_type": "code",
   "execution_count": 17,
   "metadata": {},
   "outputs": [
    {
     "name": "stdout",
     "output_type": "stream",
     "text": [
      "O melhor modelo é Random Forest com um EQM de 3416650.152365027\n"
     ]
    }
   ],
   "source": [
    "# Comparação dos Resultados\n",
    "model_results = {\n",
    "    'Linear Regression': mse_lr,\n",
    "    'Lasso Regression': mse_lasso,\n",
    "    'Random Forest': mse_rf,\n",
    "    'XGBoost': mse_xgb\n",
    "}\n",
    "\n",
    "best_model = min(model_results, key=model_results.get)\n",
    "print(f'O melhor modelo é {best_model} com um EQM de {model_results[best_model]}')\n"
   ]
  }
 ],
 "metadata": {
  "kernelspec": {
   "display_name": "sifenv",
   "language": "python",
   "name": "python3"
  },
  "language_info": {
   "codemirror_mode": {
    "name": "ipython",
    "version": 3
   },
   "file_extension": ".py",
   "mimetype": "text/x-python",
   "name": "python",
   "nbconvert_exporter": "python",
   "pygments_lexer": "ipython3",
   "version": "3.10.8"
  }
 },
 "nbformat": 4,
 "nbformat_minor": 2
}
